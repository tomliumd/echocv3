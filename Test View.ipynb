{
 "cells": [
  {
   "cell_type": "code",
   "execution_count": 11,
   "id": "b6b65a8f-b5a2-4df2-a0b7-a1301e90dde0",
   "metadata": {
    "pycharm": {
     "name": "#%%\n"
    }
   },
   "outputs": [
    {
     "name": "stdout",
     "output_type": "stream",
     "text": [
      "Requirement already satisfied: tensorflow in /home/txl4827/miniconda3/lib/python3.9/site-packages (2.9.1)\n",
      "Requirement already satisfied: astunparse>=1.6.0 in /home/txl4827/miniconda3/lib/python3.9/site-packages (from tensorflow) (1.6.3)\n",
      "Requirement already satisfied: packaging in /home/txl4827/miniconda3/lib/python3.9/site-packages (from tensorflow) (21.3)\n",
      "Requirement already satisfied: flatbuffers<2,>=1.12 in /home/txl4827/miniconda3/lib/python3.9/site-packages (from tensorflow) (1.12)\n",
      "Requirement already satisfied: libclang>=13.0.0 in /home/txl4827/miniconda3/lib/python3.9/site-packages (from tensorflow) (14.0.6)\n",
      "Requirement already satisfied: termcolor>=1.1.0 in /home/txl4827/miniconda3/lib/python3.9/site-packages (from tensorflow) (1.1.0)\n",
      "Requirement already satisfied: typing-extensions>=3.6.6 in /home/txl4827/miniconda3/lib/python3.9/site-packages (from tensorflow) (4.3.0)\n",
      "Requirement already satisfied: six>=1.12.0 in /home/txl4827/miniconda3/lib/python3.9/site-packages (from tensorflow) (1.16.0)\n",
      "Requirement already satisfied: gast<=0.4.0,>=0.2.1 in /home/txl4827/miniconda3/lib/python3.9/site-packages (from tensorflow) (0.4.0)\n",
      "Requirement already satisfied: opt-einsum>=2.3.2 in /home/txl4827/miniconda3/lib/python3.9/site-packages (from tensorflow) (3.3.0)\n",
      "Requirement already satisfied: tensorboard<2.10,>=2.9 in /home/txl4827/miniconda3/lib/python3.9/site-packages (from tensorflow) (2.9.1)\n",
      "Requirement already satisfied: keras<2.10.0,>=2.9.0rc0 in /home/txl4827/miniconda3/lib/python3.9/site-packages (from tensorflow) (2.9.0)\n",
      "Requirement already satisfied: setuptools in /home/txl4827/miniconda3/lib/python3.9/site-packages (from tensorflow) (61.2.0)\n",
      "Requirement already satisfied: tensorflow-io-gcs-filesystem>=0.23.1 in /home/txl4827/miniconda3/lib/python3.9/site-packages (from tensorflow) (0.26.0)\n",
      "Requirement already satisfied: keras-preprocessing>=1.1.1 in /home/txl4827/miniconda3/lib/python3.9/site-packages (from tensorflow) (1.1.2)\n",
      "Requirement already satisfied: google-pasta>=0.1.1 in /home/txl4827/miniconda3/lib/python3.9/site-packages (from tensorflow) (0.2.0)\n",
      "Requirement already satisfied: tensorflow-estimator<2.10.0,>=2.9.0rc0 in /home/txl4827/miniconda3/lib/python3.9/site-packages (from tensorflow) (2.9.0)\n",
      "Requirement already satisfied: wrapt>=1.11.0 in /home/txl4827/miniconda3/lib/python3.9/site-packages (from tensorflow) (1.14.1)\n",
      "Requirement already satisfied: grpcio<2.0,>=1.24.3 in /home/txl4827/miniconda3/lib/python3.9/site-packages (from tensorflow) (1.47.0)\n",
      "Requirement already satisfied: h5py>=2.9.0 in /home/txl4827/miniconda3/lib/python3.9/site-packages (from tensorflow) (3.7.0)\n",
      "Requirement already satisfied: numpy>=1.20 in /home/txl4827/miniconda3/lib/python3.9/site-packages (from tensorflow) (1.23.2)\n",
      "Requirement already satisfied: absl-py>=1.0.0 in /home/txl4827/miniconda3/lib/python3.9/site-packages (from tensorflow) (1.2.0)\n",
      "Requirement already satisfied: protobuf<3.20,>=3.9.2 in /home/txl4827/miniconda3/lib/python3.9/site-packages (from tensorflow) (3.19.4)\n",
      "Requirement already satisfied: wheel<1.0,>=0.23.0 in /home/txl4827/miniconda3/lib/python3.9/site-packages (from astunparse>=1.6.0->tensorflow) (0.37.1)\n",
      "Requirement already satisfied: google-auth<3,>=1.6.3 in /home/txl4827/miniconda3/lib/python3.9/site-packages (from tensorboard<2.10,>=2.9->tensorflow) (2.11.0)\n",
      "Requirement already satisfied: requests<3,>=2.21.0 in /home/txl4827/miniconda3/lib/python3.9/site-packages (from tensorboard<2.10,>=2.9->tensorflow) (2.28.1)\n",
      "Requirement already satisfied: werkzeug>=1.0.1 in /home/txl4827/miniconda3/lib/python3.9/site-packages (from tensorboard<2.10,>=2.9->tensorflow) (2.2.2)\n",
      "Requirement already satisfied: tensorboard-data-server<0.7.0,>=0.6.0 in /home/txl4827/miniconda3/lib/python3.9/site-packages (from tensorboard<2.10,>=2.9->tensorflow) (0.6.1)\n",
      "Requirement already satisfied: google-auth-oauthlib<0.5,>=0.4.1 in /home/txl4827/miniconda3/lib/python3.9/site-packages (from tensorboard<2.10,>=2.9->tensorflow) (0.4.6)\n",
      "Requirement already satisfied: tensorboard-plugin-wit>=1.6.0 in /home/txl4827/miniconda3/lib/python3.9/site-packages (from tensorboard<2.10,>=2.9->tensorflow) (1.8.1)\n",
      "Requirement already satisfied: markdown>=2.6.8 in /home/txl4827/miniconda3/lib/python3.9/site-packages (from tensorboard<2.10,>=2.9->tensorflow) (3.4.1)\n",
      "Requirement already satisfied: pyparsing!=3.0.5,>=2.0.2 in /home/txl4827/miniconda3/lib/python3.9/site-packages (from packaging->tensorflow) (3.0.4)\n",
      "Requirement already satisfied: pyasn1-modules>=0.2.1 in /home/txl4827/miniconda3/lib/python3.9/site-packages (from google-auth<3,>=1.6.3->tensorboard<2.10,>=2.9->tensorflow) (0.2.8)\n",
      "Requirement already satisfied: rsa<5,>=3.1.4 in /home/txl4827/miniconda3/lib/python3.9/site-packages (from google-auth<3,>=1.6.3->tensorboard<2.10,>=2.9->tensorflow) (4.9)\n",
      "Requirement already satisfied: cachetools<6.0,>=2.0.0 in /home/txl4827/miniconda3/lib/python3.9/site-packages (from google-auth<3,>=1.6.3->tensorboard<2.10,>=2.9->tensorflow) (5.2.0)\n",
      "Requirement already satisfied: requests-oauthlib>=0.7.0 in /home/txl4827/miniconda3/lib/python3.9/site-packages (from google-auth-oauthlib<0.5,>=0.4.1->tensorboard<2.10,>=2.9->tensorflow) (1.3.1)\n",
      "Requirement already satisfied: importlib-metadata>=4.4 in /home/txl4827/miniconda3/lib/python3.9/site-packages (from markdown>=2.6.8->tensorboard<2.10,>=2.9->tensorflow) (4.12.0)\n",
      "Requirement already satisfied: certifi>=2017.4.17 in /home/txl4827/miniconda3/lib/python3.9/site-packages (from requests<3,>=2.21.0->tensorboard<2.10,>=2.9->tensorflow) (2022.6.15)\n",
      "Requirement already satisfied: idna<4,>=2.5 in /home/txl4827/miniconda3/lib/python3.9/site-packages (from requests<3,>=2.21.0->tensorboard<2.10,>=2.9->tensorflow) (3.3)\n",
      "Requirement already satisfied: urllib3<1.27,>=1.21.1 in /home/txl4827/miniconda3/lib/python3.9/site-packages (from requests<3,>=2.21.0->tensorboard<2.10,>=2.9->tensorflow) (1.26.11)\n",
      "Requirement already satisfied: charset-normalizer<3,>=2 in /home/txl4827/miniconda3/lib/python3.9/site-packages (from requests<3,>=2.21.0->tensorboard<2.10,>=2.9->tensorflow) (2.0.4)\n",
      "Requirement already satisfied: MarkupSafe>=2.1.1 in /home/txl4827/miniconda3/lib/python3.9/site-packages (from werkzeug>=1.0.1->tensorboard<2.10,>=2.9->tensorflow) (2.1.1)\n",
      "Requirement already satisfied: zipp>=0.5 in /home/txl4827/miniconda3/lib/python3.9/site-packages (from importlib-metadata>=4.4->markdown>=2.6.8->tensorboard<2.10,>=2.9->tensorflow) (3.8.1)\n",
      "Requirement already satisfied: pyasn1<0.5.0,>=0.4.6 in /home/txl4827/miniconda3/lib/python3.9/site-packages (from pyasn1-modules>=0.2.1->google-auth<3,>=1.6.3->tensorboard<2.10,>=2.9->tensorflow) (0.4.8)\n",
      "Requirement already satisfied: oauthlib>=3.0.0 in /home/txl4827/miniconda3/lib/python3.9/site-packages (from requests-oauthlib>=0.7.0->google-auth-oauthlib<0.5,>=0.4.1->tensorboard<2.10,>=2.9->tensorflow) (3.2.0)\n",
      "Requirement already satisfied: opencv-python in /home/txl4827/miniconda3/lib/python3.9/site-packages (4.6.0.66)\n",
      "Requirement already satisfied: numpy>=1.17.3 in /home/txl4827/miniconda3/lib/python3.9/site-packages (from opencv-python) (1.23.2)\n",
      "Requirement already satisfied: scikit-learn in /home/txl4827/miniconda3/lib/python3.9/site-packages (1.1.2)\n",
      "Requirement already satisfied: joblib>=1.0.0 in /home/txl4827/miniconda3/lib/python3.9/site-packages (from scikit-learn) (1.1.0)\n",
      "Requirement already satisfied: numpy>=1.17.3 in /home/txl4827/miniconda3/lib/python3.9/site-packages (from scikit-learn) (1.23.2)\n",
      "Requirement already satisfied: scipy>=1.3.2 in /home/txl4827/miniconda3/lib/python3.9/site-packages (from scikit-learn) (1.9.0)\n",
      "Requirement already satisfied: threadpoolctl>=2.0.0 in /home/txl4827/miniconda3/lib/python3.9/site-packages (from scikit-learn) (3.1.0)\n",
      "Requirement already satisfied: vgg_pytorch in /home/txl4827/miniconda3/lib/python3.9/site-packages (0.3.0)\n",
      "Requirement already satisfied: torch in /home/txl4827/miniconda3/lib/python3.9/site-packages (from vgg_pytorch) (1.12.1)\n",
      "Requirement already satisfied: typing-extensions in /home/txl4827/miniconda3/lib/python3.9/site-packages (from torch->vgg_pytorch) (4.3.0)\n"
     ]
    }
   ],
   "source": [
    "!pip install tensorflow\n",
    "!pip install opencv-python\n",
    "!pip install scikit-learn\n",
    "!pip install vgg_pytorch "
   ]
  },
  {
   "cell_type": "code",
   "execution_count": 3,
   "id": "381a5ad0-7a29-4529-abc4-80325f370c44",
   "metadata": {
    "pycharm": {
     "name": "#%%\n"
    }
   },
   "outputs": [],
   "source": [
    "from predict_viewclass_v2 import *\n"
   ]
  },
  {
   "cell_type": "code",
   "execution_count": 19,
   "id": "87b7ac64-c300-45a2-b339-c1f441db7bec",
   "metadata": {
    "pycharm": {
     "name": "#%%\n"
    }
   },
   "outputs": [
    {
     "ename": "NameError",
     "evalue": "name 'nn' is not defined",
     "output_type": "error",
     "traceback": [
      "\u001B[0;31m---------------------------------------------------------------------------\u001B[0m",
      "\u001B[0;31mNameError\u001B[0m                                 Traceback (most recent call last)",
      "Input \u001B[0;32mIn [19]\u001B[0m, in \u001B[0;36m<cell line: 1>\u001B[0;34m()\u001B[0m\n\u001B[0;32m----> 1\u001B[0m \u001B[43mnn\u001B[49m\n",
      "\u001B[0;31mNameError\u001B[0m: name 'nn' is not defined"
     ]
    }
   ],
   "source": [
    "nn"
   ]
  },
  {
   "cell_type": "code",
   "execution_count": null,
   "id": "49ad73f6-ad5e-439a-9724-79c960f41a5e",
   "metadata": {
    "pycharm": {
     "name": "#%%\n"
    }
   },
   "outputs": [],
   "source": []
  },
  {
   "cell_type": "code",
   "execution_count": 9,
   "id": "06423b19-2b47-4cf3-b089-71b6de6c99d2",
   "metadata": {
    "pycharm": {
     "name": "#%%\n"
    }
   },
   "outputs": [],
   "source": [
    "network = VGG"
   ]
  },
  {
   "cell_type": "code",
   "execution_count": 12,
   "id": "5a69c957-33d2-4eb1-92ad-119f4351dd06",
   "metadata": {
    "pycharm": {
     "name": "#%%\n"
    }
   },
   "outputs": [
    {
     "ename": "AttributeError",
     "evalue": "type object 'VGG' has no attribute 'Network'",
     "output_type": "error",
     "traceback": [
      "\u001B[0;31m---------------------------------------------------------------------------\u001B[0m",
      "\u001B[0;31mAttributeError\u001B[0m                            Traceback (most recent call last)",
      "Input \u001B[0;32mIn [12]\u001B[0m, in \u001B[0;36m<cell line: 1>\u001B[0;34m()\u001B[0m\n\u001B[0;32m----> 1\u001B[0m \u001B[43mnetwork\u001B[49m\u001B[38;5;241;43m.\u001B[39;49m\u001B[43mNetwork\u001B[49m\n",
      "\u001B[0;31mAttributeError\u001B[0m: type object 'VGG' has no attribute 'Network'"
     ]
    }
   ],
   "source": [
    "network.Network"
   ]
  },
  {
   "cell_type": "code",
   "execution_count": 5,
   "id": "8f7fc7ea-e54d-41e5-a5a2-cb59ba235d8a",
   "metadata": {
    "pycharm": {
     "name": "#%%\n"
    }
   },
   "outputs": [
    {
     "ename": "ModuleNotFoundError",
     "evalue": "No module named 'vgg'",
     "output_type": "error",
     "traceback": [
      "\u001B[0;31m---------------------------------------------------------------------------\u001B[0m",
      "\u001B[0;31mModuleNotFoundError\u001B[0m                       Traceback (most recent call last)",
      "Input \u001B[0;32mIn [5]\u001B[0m, in \u001B[0;36m<cell line: 1>\u001B[0;34m()\u001B[0m\n\u001B[0;32m----> 1\u001B[0m \u001B[38;5;28;01mfrom\u001B[39;00m \u001B[38;5;21;01mechocv3\u001B[39;00m\u001B[38;5;21;01m.\u001B[39;00m\u001B[38;5;21;01mpredict_viewclass_v2\u001B[39;00m \u001B[38;5;28;01mimport\u001B[39;00m \u001B[38;5;241m*\u001B[39m\n\u001B[1;32m      2\u001B[0m \u001B[38;5;28;01mimport\u001B[39;00m \u001B[38;5;21;01mos\u001B[39;00m\u001B[38;5;241m,\u001B[39m \u001B[38;5;21;01msys\u001B[39;00m\n",
      "File \u001B[0;32m~/projects/echocv3/predict_viewclass_v2.py:23\u001B[0m, in \u001B[0;36m<module>\u001B[0;34m\u001B[0m\n\u001B[1;32m     19\u001B[0m \u001B[38;5;28;01mfrom\u001B[39;00m \u001B[38;5;21;01margparse\u001B[39;00m \u001B[38;5;28;01mimport\u001B[39;00m ArgumentParser\n\u001B[1;32m     20\u001B[0m \u001B[38;5;28;01mfrom\u001B[39;00m \u001B[38;5;21;01mechocv3\u001B[39;00m\u001B[38;5;21;01m.\u001B[39;00m\u001B[38;5;21;01mechoanalysis_tools\u001B[39;00m \u001B[38;5;28;01mimport\u001B[39;00m output_imgdict\n\u001B[0;32m---> 23\u001B[0m \u001B[38;5;28;01mimport\u001B[39;00m \u001B[38;5;21;01mvgg\u001B[39;00m \u001B[38;5;28;01mas\u001B[39;00m \u001B[38;5;21;01mnetwork\u001B[39;00m \n\u001B[1;32m     25\u001B[0m tf\u001B[38;5;241m.\u001B[39mdisable_eager_execution()\n\u001B[1;32m     28\u001B[0m \u001B[38;5;28;01mdef\u001B[39;00m \u001B[38;5;21mdicom2jpg\u001B[39m(path, dicomfile, out_dir):\n",
      "\u001B[0;31mModuleNotFoundError\u001B[0m: No module named 'vgg'"
     ]
    }
   ],
   "source": [
    "from echocv3.predict_viewclass_v2 import *\n",
    "import os, sys"
   ]
  },
  {
   "cell_type": "code",
   "execution_count": 18,
   "id": "ee2d4322-fa1a-420b-831c-6fe513a6bc58",
   "metadata": {
    "pycharm": {
     "name": "#%%\n"
    }
   },
   "outputs": [],
   "source": [
    "from MESA.utils import *\n",
    "from pathlib import Path"
   ]
  },
  {
   "cell_type": "code",
   "execution_count": 6,
   "id": "df477d56-58b7-4f42-ab46-8196bf5d0b89",
   "metadata": {
    "pycharm": {
     "name": "#%%\n"
    }
   },
   "outputs": [],
   "source": [
    "shahdir = '/mnt'\n",
    "path ='/mnt'\n",
    "proj ='MESA_Echos'\n",
    "proj_export_path = 'export'\n",
    "path_to_dicom = Path('/data2/NMEcho/jtw_echo2/dicoms')\n",
    "path_to_model = Path('/data2/NMEcho/echo_testing/models')"
   ]
  },
  {
   "cell_type": "code",
   "execution_count": 7,
   "id": "aeba70e4-5e43-4614-a01b-1f0e8e8b59bf",
   "metadata": {
    "pycharm": {
     "name": "#%%\n"
    }
   },
   "outputs": [],
   "source": [
    "filedirs = mesa_filedirs(os.path.join(path, proj))"
   ]
  },
  {
   "cell_type": "code",
   "execution_count": 9,
   "id": "5e53c783-4fcb-4b25-9ff1-1ad11ec71a8b",
   "metadata": {
    "pycharm": {
     "name": "#%%\n"
    }
   },
   "outputs": [
    {
     "data": {
      "text/plain": [
       "{'Drive2/Volume3': '/mnt/MESA_Echos/Drive2/Volume3',\n",
       " 'Drive2/Volume2': '/mnt/MESA_Echos/Drive2/Volume2',\n",
       " 'Drive2/Volume1': '/mnt/MESA_Echos/Drive2/Volume1',\n",
       " 'Drive1/Volume3': '/mnt/MESA_Echos/Drive1/Volume3',\n",
       " 'Drive1/Volume2': '/mnt/MESA_Echos/Drive1/Volume2',\n",
       " 'Drive1/Volume1': '/mnt/MESA_Echos/Drive1/Volume1',\n",
       " 'Drive3/Volume3': '/mnt/MESA_Echos/Drive3/Volume3',\n",
       " 'Drive3/Volume2': '/mnt/MESA_Echos/Drive3/Volume2',\n",
       " 'Drive3/Volume1': '/mnt/MESA_Echos/Drive3/Volume1',\n",
       " 'Drive4/Volume 5': '/mnt/MESA_Echos/Drive4/Volume 5',\n",
       " 'Drive4/Volume3': '/mnt/MESA_Echos/Drive4/Volume3',\n",
       " 'Drive4/Volume2': '/mnt/MESA_Echos/Drive4/Volume2',\n",
       " 'Drive4/Volume4': '/mnt/MESA_Echos/Drive4/Volume4',\n",
       " 'Drive4/Volume1': '/mnt/MESA_Echos/Drive4/Volume1'}"
      ]
     },
     "execution_count": 9,
     "metadata": {},
     "output_type": "execute_result"
    }
   ],
   "source": [
    "filedirs"
   ]
  },
  {
   "cell_type": "code",
   "execution_count": 10,
   "id": "b05ec586-772a-4cbd-a0cd-61e7116caa15",
   "metadata": {
    "pycharm": {
     "name": "#%%\n"
    }
   },
   "outputs": [],
   "source": [
    "\n",
    "def list_paths(files = filedirs, stills=True):\n",
    "    exportlist = []\n",
    "    for k, elem in files.items():\n",
    "        temp = elem\n",
    "        for pt, studies in temp.patients.items():\n",
    "            for study in studies:\n",
    "                if not stills and study.frame == 1:\n",
    "                    export_study = []\n",
    "                else:\n",
    "                    export_study = [os.path.join(elem.path, '/'.join(study.path))]\n",
    "                exportlist += export_study\n",
    "            \n",
    "    return exportlist"
   ]
  },
  {
   "cell_type": "code",
   "execution_count": 14,
   "id": "f9a379ea-185e-4c17-bd8f-16d17b19718d",
   "metadata": {
    "pycharm": {
     "name": "#%%\n"
    }
   },
   "outputs": [],
   "source": [
    "def get_views(files = filedirs):\n",
    "    #filedirs = MesaEchos.from_paths(files)\n",
    "    listpaths = list_paths(filedirs, stills=True)\n",
    "    pd_output = None\n",
    "    for path in listpaths:\n",
    "        output = viewclass(Path(path), batch_size=10, model_name=\"view_23_e5_class_11-Mar-2018\", model_path=path_to_model)\n",
    "        if pt_output is None:\n",
    "            pd_output = output\n",
    "        else: \n",
    "            pd.cat(pd_output, output)\n",
    "    return pd_output\n",
    "\n",
    "        \n"
   ]
  },
  {
   "cell_type": "code",
   "execution_count": 15,
   "id": "a522fdbd-e567-4c41-a559-1fa8bab06af0",
   "metadata": {
    "pycharm": {
     "name": "#%%\n"
    }
   },
   "outputs": [
    {
     "ename": "NameError",
     "evalue": "name 'viewclass' is not defined",
     "output_type": "error",
     "traceback": [
      "\u001B[0;31m---------------------------------------------------------------------------\u001B[0m",
      "\u001B[0;31mNameError\u001B[0m                                 Traceback (most recent call last)",
      "Input \u001B[0;32mIn [15]\u001B[0m, in \u001B[0;36m<cell line: 1>\u001B[0;34m()\u001B[0m\n\u001B[0;32m----> 1\u001B[0m temp_pd \u001B[38;5;241m=\u001B[39m \u001B[43mget_views\u001B[49m\u001B[43m(\u001B[49m\u001B[43m)\u001B[49m\n",
      "Input \u001B[0;32mIn [14]\u001B[0m, in \u001B[0;36mget_views\u001B[0;34m(files)\u001B[0m\n\u001B[1;32m      4\u001B[0m pd_output \u001B[38;5;241m=\u001B[39m \u001B[38;5;28;01mNone\u001B[39;00m\n\u001B[1;32m      5\u001B[0m \u001B[38;5;28;01mfor\u001B[39;00m path \u001B[38;5;129;01min\u001B[39;00m listpaths:\n\u001B[0;32m----> 6\u001B[0m     output \u001B[38;5;241m=\u001B[39m \u001B[43mviewclass\u001B[49m(Path(path), batch_size\u001B[38;5;241m=\u001B[39m\u001B[38;5;241m10\u001B[39m, model_name\u001B[38;5;241m=\u001B[39m\u001B[38;5;124m\"\u001B[39m\u001B[38;5;124mview_23_e5_class_11-Mar-2018\u001B[39m\u001B[38;5;124m\"\u001B[39m, model_path\u001B[38;5;241m=\u001B[39mpath_to_model)\n\u001B[1;32m      7\u001B[0m     \u001B[38;5;28;01mif\u001B[39;00m pt_output \u001B[38;5;129;01mis\u001B[39;00m \u001B[38;5;28;01mNone\u001B[39;00m:\n\u001B[1;32m      8\u001B[0m         pd_output \u001B[38;5;241m=\u001B[39m output\n",
      "\u001B[0;31mNameError\u001B[0m: name 'viewclass' is not defined"
     ]
    }
   ],
   "source": [
    "temp_pd = get_views()"
   ]
  },
  {
   "cell_type": "code",
   "execution_count": null,
   "id": "75af5013-fdb5-4da3-b259-bc6c51a63028",
   "metadata": {
    "pycharm": {
     "name": "#%%\n"
    }
   },
   "outputs": [],
   "source": []
  },
  {
   "cell_type": "code",
   "execution_count": null,
   "id": "3d07d16e-de14-4e23-9dac-526cfc13d11e",
   "metadata": {
    "pycharm": {
     "name": "#%%\n"
    }
   },
   "outputs": [],
   "source": []
  },
  {
   "cell_type": "code",
   "execution_count": null,
   "id": "92ab0beb-3f08-498f-ad29-0e8f2f93a6d2",
   "metadata": {
    "pycharm": {
     "name": "#%%\n"
    }
   },
   "outputs": [],
   "source": []
  },
  {
   "cell_type": "code",
   "execution_count": null,
   "id": "5cda8928-55ae-4230-91d1-afa7bb3ea2a6",
   "metadata": {
    "pycharm": {
     "name": "#%%\n"
    }
   },
   "outputs": [],
   "source": [
    "def viewclass(dicomdir = \"/Users/jameswilkinson/Documents/FeinbergData/2022-05-22/dicoms/\",\n",
    "         batch_size=100,\n",
    "         model_name=\"view_23_e5_class_11-Mar-2018\",\n",
    "         model_path=Path('./echo_deeplearning/models/'), **kwargs):"
   ]
  }
 ],
 "metadata": {
  "kernelspec": {
   "display_name": "Python 3 (ipykernel)",
   "language": "python",
   "name": "python3"
  },
  "language_info": {
   "codemirror_mode": {
    "name": "ipython",
    "version": 3
   },
   "file_extension": ".py",
   "mimetype": "text/x-python",
   "name": "python",
   "nbconvert_exporter": "python",
   "pygments_lexer": "ipython3",
   "version": "3.9.12"
  }
 },
 "nbformat": 4,
 "nbformat_minor": 5
}